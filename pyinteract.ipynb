{
 "cells": [
  {
   "cell_type": "code",
   "execution_count": 28,
   "metadata": {
    "hide_input": true
   },
   "outputs": [
    {
     "data": {
      "application/vnd.jupyter.widget-view+json": {
       "model_id": "5e02c642313649d588f4393005227c5d",
       "version_major": 2,
       "version_minor": 0
      },
      "text/plain": [
       "interactive(children=(FloatSlider(value=969.8, continuous_update=False, description='Test:', max=2000.0, min=1…"
      ]
     },
     "metadata": {},
     "output_type": "display_data"
    }
   ],
   "source": [
    "\n",
    "\n",
    "tb = widgets.FloatSlider(\n",
    "    value=969.8,\n",
    "    min=100,\n",
    "    max=2000,\n",
    "    step=0.1,\n",
    "    description='Test:',\n",
    "    disabled=False,\n",
    "    continuous_update=False,\n",
    "    orientation='horizontal',\n",
    "    readout=True,\n",
    "    readout_format='.1f',\n",
    "    definition= 'val1')\n",
    "\n",
    "tb2 = widgets.FloatSlider(\n",
    "    value=44.04,\n",
    "    min=0,\n",
    "    max=200,\n",
    "    step=0.5,\n",
    "    description='Test:',\n",
    "    disabled=False,\n",
    "    continuous_update=False,\n",
    "    orientation='horizontal',\n",
    "    readout=True,\n",
    "    readout_format='.1f',\n",
    "    definition = 'val2')\n",
    "\n",
    "@interact\n",
    "def clicked(val=tb,val2=tb2):\n",
    "    F=[]\n",
    "    H = []\n",
    "    for i in range(5000):\n",
    "        w = 0.02*i\n",
    "        F.append(w/(2*3.14))\n",
    "        H.append(-(w*w)/((val-w*w) + 1j*(val2*w)))\n",
    "    H = np.array(H)\n",
    "    trac = go.Scatter(\n",
    "        x  = F,\n",
    "        y =  abs(H),\n",
    "        mode='markers'\n",
    "        )\n",
    "    clear_output(wait=True)\n",
    "    iplot([trac])"
   ]
  },
  {
   "cell_type": "code",
   "execution_count": 1,
   "metadata": {},
   "outputs": [
    {
     "data": {
      "text/html": [
       "        <script type=\"text/javascript\">\n",
       "        window.PlotlyConfig = {MathJaxConfig: 'local'};\n",
       "        if (window.MathJax) {MathJax.Hub.Config({SVG: {font: \"STIX-Web\"}});}\n",
       "        if (typeof require !== 'undefined') {\n",
       "        require.undef(\"plotly\");\n",
       "        requirejs.config({\n",
       "            paths: {\n",
       "                'plotly': ['https://cdn.plot.ly/plotly-latest.min']\n",
       "            }\n",
       "        });\n",
       "        require(['plotly'], function(Plotly) {\n",
       "            window._Plotly = Plotly;\n",
       "        });\n",
       "        }\n",
       "        </script>\n",
       "        "
      ]
     },
     "metadata": {},
     "output_type": "display_data"
    }
   ],
   "source": [
    "import plotly.graph_objs as go\n",
    "import plotly_express as px\n",
    "from plotly import tools, subplots\n",
    "import numpy as np\n",
    "import ipywidgets as widgets\n",
    "import math\n",
    "from plotly.offline import download_plotlyjs, init_notebook_mode, plot, iplot\n",
    "from ipywidgets import interact, interactive, fixed, interact_manual\n",
    "init_notebook_mode(connected=True)\n",
    "from IPython.display import display, clear_output\n",
    "from IPython.display import IFrame\n",
    "from IPython.core.magics.display import Javascript"
   ]
  }
 ],
 "metadata": {
  "kernelspec": {
   "display_name": "Python 3",
   "language": "python",
   "name": "python3"
  },
  "language_info": {
   "codemirror_mode": {
    "name": "ipython",
    "version": 3
   },
   "file_extension": ".py",
   "mimetype": "text/x-python",
   "name": "python",
   "nbconvert_exporter": "python",
   "pygments_lexer": "ipython3",
   "version": "3.7.3"
  }
 },
 "nbformat": 4,
 "nbformat_minor": 2
}
